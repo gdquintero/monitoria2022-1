{
 "cells": [
  {
   "cell_type": "code",
   "execution_count": 1,
   "id": "47a25476",
   "metadata": {},
   "outputs": [],
   "source": [
    "import numpy as np\n",
    "from scipy import integrate"
   ]
  },
  {
   "cell_type": "code",
   "execution_count": 2,
   "id": "859c509f",
   "metadata": {},
   "outputs": [],
   "source": [
    "def c(x,example):\n",
    "    if example == 3:\n",
    "        return x**3\n",
    "    else:\n",
    "        return 0.0\n",
    "\n",
    "def d(x,example):\n",
    "    if example == 1:\n",
    "        if cubo:\n",
    "            return 1.0\n",
    "        else:\n",
    "            return 1.0 - x\n",
    "        \n",
    "    elif example == 2:\n",
    "        if first:\n",
    "            return 1.0 - x**2\n",
    "        else:\n",
    "            return np.sqrt(1.0 - x)\n",
    "        \n",
    "    elif example == 3:\n",
    "        return x**2\n",
    "    else:\n",
    "        if calota:\n",
    "            return np.sqrt(1.0 - x**2)\n",
    "        else:\n",
    "            return np.exp(-1.0 * x**2)\n",
    "    \n",
    "def f(x,y,example):\n",
    "    if example == 1:\n",
    "        if cubo:\n",
    "            return 1.0\n",
    "        else:\n",
    "            return 1.0 - x - y\n",
    "        \n",
    "    elif example == 2:\n",
    "        return 1.0\n",
    "    \n",
    "    elif example == 3:\n",
    "        if area:\n",
    "            fx = (-y / x**2) * np.exp(y / x)\n",
    "            fy = (1.0 / x) * np.exp(y / x)\n",
    "            return np.sqrt(fx**2 + fy**2 + 1.0)\n",
    "        else:\n",
    "            return np.exp(y / x)\n",
    "    else:\n",
    "        return y\n",
    "\n",
    "def Gaussian_double_integral(example,n):\n",
    "    \n",
    "    if n == 3:\n",
    "        r[:] = 0.0; w[:] = 0.0\n",
    "        r[0] = -np.sqrt(0.6)\n",
    "        r[1] = 0.0\n",
    "        r[2] = -r[0]\n",
    "        \n",
    "        w[0] = 5.0 / 9.0\n",
    "        w[1] = 8.0 / 9.0\n",
    "        w[2] = w[0]\n",
    "    \n",
    "    elif n == 6:\n",
    "        r[:] = 0.0; w[:] = 0.0\n",
    "        r[0] = 0.2386191860831969086305017\n",
    "        r[1] = 0.6612093864662645136613996\n",
    "        r[2] = 0.9324695142031520278123016\n",
    "\n",
    "        w[0] = 0.4679139345726910473898703\n",
    "        w[1] = 0.3607615730481386075698335\n",
    "        w[2] = 0.1713244923791703450402961\n",
    "\n",
    "    elif n == 8:\n",
    "        r[:] = 0.0; w[:] = 0.0\n",
    "        r[0] = 0.1834346424956498049394761\n",
    "        r[1] = 0.5255324099163289858177390\n",
    "        r[2] = 0.7966664774136267395915539\n",
    "        r[3] = 0.9602898564975362316835609\n",
    "\n",
    "        w[0] = 0.3626837833783619829651504\n",
    "        w[1] = 0.3137066458778872873379622\n",
    "        w[2] = 0.2223810344533744705443560\n",
    "        w[3] = 0.1012285362903762591525314\n",
    "\n",
    "    else:\n",
    "        r[:] = 0.0; w[:] = 0.0\n",
    "        r[0] = 0.1488743389816312108848260\n",
    "        r[1] = 0.4333953941292471907992659\n",
    "        r[2] = 0.6794095682990244062343274\n",
    "        r[3] = 0.8650633666889845107320967\n",
    "        r[4] = 0.9739065285171717200779640\n",
    "\n",
    "        w[0] = 0.2955242247147528701738930\n",
    "        w[1] = 0.2692667193099963550912269\n",
    "        w[2] = 0.2190863625159820439955349\n",
    "        w[3] = 0.1494513491505805931457763\n",
    "        w[4] = 0.0666713443086881375935688\n",
    "\n",
    "    # Symmetry of roots and weights\n",
    "    \n",
    "    if n > 3:\n",
    "        r[int(n/2):n] = -1.0 * np.flip(r)[10 - int(n/2):]\n",
    "        w[int(n/2):n] = np.flip(w)[10 - int(n/2):]\n",
    "    \n",
    "    a = 0.0\n",
    "    b = 1.0\n",
    "    \n",
    "    if example == 3:\n",
    "        a = 0.1\n",
    "        b = 0.5\n",
    "    elif example == 4:\n",
    "        if calota:\n",
    "            a = 0.75\n",
    "            b = 1.0\n",
    "        else:\n",
    "            a = -1.0\n",
    "            b = 1.0\n",
    "        \n",
    "    # Change of variable x\n",
    "    h1 = 0.5 * (a + b)\n",
    "    h2 = 0.5 * (b - a)\n",
    "    \n",
    "    sumx = 0.0\n",
    "\n",
    "    for i in range(n):\n",
    "        s = h1 + h2 * r[i]\n",
    "        \n",
    "        # Change of variable y\n",
    "        k1 = 0.5 * (c(s,example) + d(s,example))\n",
    "        k2 = 0.5 * (d(s,example) - c(s,example))\n",
    "        \n",
    "        sumy = 0.0\n",
    "\n",
    "        for j in range(n):\n",
    "            t = k1 + k2 * r[j]\n",
    "            sumy = sumy + w[j] * f(s,t,example)\n",
    "\n",
    "        sumx = sumx + w[i] * k2 * sumy\n",
    "\n",
    "    return h2 * sumx"
   ]
  },
  {
   "cell_type": "code",
   "execution_count": 3,
   "id": "c5cbbf9b",
   "metadata": {},
   "outputs": [],
   "source": [
    "r = np.empty(10) # Allocating the roots vector\n",
    "w = np.empty(10) # Allocating the weights vector"
   ]
  },
  {
   "cell_type": "markdown",
   "id": "cb6db007",
   "metadata": {},
   "source": [
    "## Exemple 1"
   ]
  },
  {
   "cell_type": "markdown",
   "id": "c3c8274a",
   "metadata": {},
   "source": [
    "### Cube: \n",
    "$V = \\displaystyle\\int_0^1\\int_0^1 dx\\,dy = 1.$"
   ]
  },
  {
   "cell_type": "code",
   "execution_count": 4,
   "id": "88c2b425",
   "metadata": {},
   "outputs": [
    {
     "name": "stdout",
     "output_type": "stream",
     "text": [
      "The volume of the cube with n = 3 is:  1.0\n",
      "The volume of the cube with n = 6 is:  1.0\n",
      "The volume of the cube with n = 8 is:  1.0\n",
      "The volume of the cube with n = 10 is:  1.0\n"
     ]
    }
   ],
   "source": [
    "cubo = True\n",
    "example = 1\n",
    "\n",
    "# n = 3\n",
    "integral = Gaussian_double_integral(example,3)\n",
    "print(\"The volume of the cube with n = 3 is: \",integral)\n",
    "\n",
    "# n = 6\n",
    "integral = Gaussian_double_integral(example,6)\n",
    "print(\"The volume of the cube with n = 6 is: \",integral)\n",
    "\n",
    "# n = 8\n",
    "integral = Gaussian_double_integral(example,8)\n",
    "print(\"The volume of the cube with n = 8 is: \",integral)\n",
    "\n",
    "# n = 10\n",
    "integral = Gaussian_double_integral(example,10)\n",
    "print(\"The volume of the cube with n = 10 is: \",integral)\n"
   ]
  },
  {
   "cell_type": "markdown",
   "id": "54427565",
   "metadata": {},
   "source": [
    "### Tetrahedron: \n",
    "$V = \\displaystyle\\int_0^1\\left(\\int_0^{1-x}(1-x-y)\\,dy\\right)dx = \\dfrac{1}{6}$."
   ]
  },
  {
   "cell_type": "code",
   "execution_count": 5,
   "id": "cbeecaf1",
   "metadata": {},
   "outputs": [
    {
     "name": "stdout",
     "output_type": "stream",
     "text": [
      "The 'exact' solution is:  0.16666666666666669\n",
      "The volume of the tetrahedron with n = 3 is:  0.16666666666666669\n",
      "The volume of the tetrahedron with n = 6 is:  0.16666666666666666\n",
      "The volume of the tetrahedron with n = 8 is:  0.16666666666666666\n",
      "The volume of the tetrahedron with n = 10 is:  0.16666666666666669\n"
     ]
    }
   ],
   "source": [
    "cubo = False\n",
    "\n",
    "F = lambda y, x: 1.0 - x - y\n",
    "exact = integrate.dblquad(F, 0, 1, lambda x: 0, lambda x: 1.0 - x)\n",
    "print(\"The 'exact' solution is: \",exact[0])\n",
    "\n",
    "# n = 3\n",
    "integral = Gaussian_double_integral(example,3)\n",
    "print(\"The volume of the tetrahedron with n = 3 is: \",integral)\n",
    "\n",
    "# n = 6\n",
    "integral = Gaussian_double_integral(example,6)\n",
    "print(\"The volume of the tetrahedron with n = 6 is: \",integral)\n",
    "\n",
    "# n = 8\n",
    "integral = Gaussian_double_integral(example,8)\n",
    "print(\"The volume of the tetrahedron with n = 8 is: \",integral)\n",
    "\n",
    "# n = 10\n",
    "integral = Gaussian_double_integral(example,10)\n",
    "print(\"The volume of the tetrahedron with n = 10 is: \",integral)"
   ]
  },
  {
   "cell_type": "markdown",
   "id": "7702f037",
   "metadata": {},
   "source": [
    "## Example 2"
   ]
  },
  {
   "cell_type": "markdown",
   "id": "c8b1f7f4",
   "metadata": {},
   "source": [
    "### First integral: \n",
    "$A = \\displaystyle\\int_0^1\\left(\\int_0^{1-x^2}dy\\right)dx = \\dfrac{2}{3}$."
   ]
  },
  {
   "cell_type": "code",
   "execution_count": 6,
   "id": "4f1b3a82",
   "metadata": {},
   "outputs": [
    {
     "name": "stdout",
     "output_type": "stream",
     "text": [
      "The 'exact' solution is:  0.6666666666666666\n",
      "The area A for first integral with n = 3 is:  0.6666666666666666\n",
      "The area A for first integral with n = 6 is:  0.6666666666666667\n",
      "The area A for first integral with n = 8 is:  0.6666666666666666\n",
      "The area A for first integral with n = 10 is:  0.6666666666666666\n"
     ]
    }
   ],
   "source": [
    "first = True\n",
    "example = 2\n",
    "\n",
    "F = lambda y, x: 1.0\n",
    "exact = integrate.dblquad(F, 0, 1, lambda x: 0, lambda x: 1.0 - x**2)\n",
    "print(\"The 'exact' solution is: \",exact[0])\n",
    "\n",
    "# n = 3\n",
    "integral = Gaussian_double_integral(example,3)\n",
    "print(\"The area A for first integral with n = 3 is: \",integral)\n",
    "\n",
    "# n = 6\n",
    "integral = Gaussian_double_integral(example,6)\n",
    "print(\"The area A for first integral with n = 6 is: \",integral)\n",
    "\n",
    "# n = 8\n",
    "integral = Gaussian_double_integral(example,8)\n",
    "print(\"The area A for first integral with n = 8 is: \",integral)\n",
    "\n",
    "# n = 10\n",
    "integral = Gaussian_double_integral(example,10)\n",
    "print(\"The area A for first integral with n = 10 is: \",integral)"
   ]
  },
  {
   "cell_type": "markdown",
   "id": "cc8e9e53",
   "metadata": {},
   "source": [
    "### Second integral: \n",
    "$A = \\displaystyle\\int_0^1\\left(\\int_0^{\\sqrt{1-y}}dx\\right)dy = \\dfrac{2}{3}$."
   ]
  },
  {
   "cell_type": "code",
   "execution_count": 7,
   "id": "1e93836c",
   "metadata": {},
   "outputs": [
    {
     "name": "stdout",
     "output_type": "stream",
     "text": [
      "The 'exact' solution is:  0.6666666666666669\n",
      "The area A for the second integral with n = 3 is:  0.6691796338994718\n",
      "The area A for the second integral with n = 6 is:  0.6670464379156136\n",
      "The area A for the second integral with n = 8 is:  0.6668355801001764\n",
      "The area A for the second integral with n = 10 is:  0.6667560429365088\n"
     ]
    }
   ],
   "source": [
    "first = False\n",
    "\n",
    "F = lambda x, y: 1.0\n",
    "exact = integrate.dblquad(F, 0, 1, lambda y: 0, lambda y: np.sqrt(1.0 - y))\n",
    "print(\"The 'exact' solution is: \",exact[0])\n",
    "\n",
    "# n = 3\n",
    "integral = Gaussian_double_integral(example,3)\n",
    "print(\"The area A for the second integral with n = 3 is: \",integral)\n",
    "\n",
    "# n = 6\n",
    "integral = Gaussian_double_integral(example,6)\n",
    "print(\"The area A for the second integral with n = 6 is: \",integral)\n",
    "\n",
    "# n = 8\n",
    "integral = Gaussian_double_integral(example,8)\n",
    "print(\"The area A for the second integral with n = 8 is: \",integral)\n",
    "\n",
    "# n = 10\n",
    "integral = Gaussian_double_integral(example,10)\n",
    "print(\"The area A for the second integral with n = 10 is: \",integral)"
   ]
  },
  {
   "cell_type": "markdown",
   "id": "754464b9",
   "metadata": {},
   "source": [
    "## Example 3"
   ]
  },
  {
   "cell_type": "markdown",
   "id": "28fd6098",
   "metadata": {},
   "source": [
    "### Area: \n",
    "$f(x,y)=e^{y/x}\\Rightarrow f_x(x,y)=\\dfrac{-y}{x}\\,e^{y/x}\\quad\\text{and}\\quad f_y(x,y)=\\dfrac{1}{x}\\,e^{y/x}$. Then,\n",
    "\n",
    "$$\n",
    "A = \\displaystyle\\int_{0.1}^{0.5}\\left(\\int_{x^3}^{x^2}\\sqrt{f_x(x,y)^2+f_y(x,y)^2+1}\\,dy\\right) dx = 0.105498.\n",
    "$$"
   ]
  },
  {
   "cell_type": "code",
   "execution_count": 8,
   "id": "778e5402",
   "metadata": {},
   "outputs": [
    {
     "name": "stdout",
     "output_type": "stream",
     "text": [
      "The 'exact' solution is:  0.10549788240051994\n",
      "The area of the surface with n = 3 is:  0.10549832519645636\n",
      "The area of the surface with n = 6 is:  0.10549788240049787\n",
      "The area of the surface with n = 8 is:  0.10549788240051997\n",
      "The area of the surface with n = 10 is:  0.10549788240051992\n"
     ]
    }
   ],
   "source": [
    "area = True\n",
    "example = 3\n",
    "\n",
    "F = lambda y, x: np.sqrt(((-y / x**2) * np.exp(y / x))**2 + ((1.0 / x) * np.exp(y / x))**2 + 1.0)\n",
    "\n",
    "exact = integrate.dblquad(F, 0.1, 0.5, lambda x: x**3, lambda x: x**2)\n",
    "print(\"The 'exact' solution is: \",exact[0])\n",
    "\n",
    "# n = 3\n",
    "integral = Gaussian_double_integral(example,3)\n",
    "print(\"The area of the surface with n = 3 is: \",integral)\n",
    "\n",
    "# n = 6\n",
    "integral = Gaussian_double_integral(example,6)\n",
    "print(\"The area of the surface with n = 6 is: \",integral)\n",
    "\n",
    "# n = 8\n",
    "integral = Gaussian_double_integral(example,8)\n",
    "print(\"The area of the surface with n = 8 is: \",integral)\n",
    "\n",
    "# n = 10\n",
    "integral = Gaussian_double_integral(example,10)\n",
    "print(\"The area of the surface with n = 10 is: \",integral)"
   ]
  },
  {
   "cell_type": "markdown",
   "id": "67632e67",
   "metadata": {},
   "source": [
    "### Volume:\n",
    "$V = \\displaystyle\\int_{0.1}^{0.5}\\left(\\int_{x^3}^{x^2}e^{y/x}\\,dy\\right)dx = 0.0333056.$"
   ]
  },
  {
   "cell_type": "code",
   "execution_count": 9,
   "id": "391ef05f",
   "metadata": {},
   "outputs": [
    {
     "name": "stdout",
     "output_type": "stream",
     "text": [
      "The 'exact' solution is:  0.03330556611623208\n",
      "The volume of the surface with n = 3 is:  0.03330583133480737\n",
      "The volume of the surface with n = 6 is:  0.03330556611623719\n",
      "The volume of the surface with n = 8 is:  0.033305566116232074\n",
      "The volume of the surface with n = 10 is:  0.03330556611623208\n"
     ]
    }
   ],
   "source": [
    "area = False\n",
    "\n",
    "F = lambda y, x: np.exp(y / x)\n",
    "exact = integrate.dblquad(F, 0.1, 0.5, lambda x: x**3, lambda x: x**2)\n",
    "print(\"The 'exact' solution is: \",exact[0])\n",
    "\n",
    "# n = 3\n",
    "integral = Gaussian_double_integral(example,3)\n",
    "print(\"The volume of the surface with n = 3 is: \",integral)\n",
    "\n",
    "# n = 6\n",
    "integral = Gaussian_double_integral(example,6)\n",
    "print(\"The volume of the surface with n = 6 is: \",integral)\n",
    "\n",
    "# n = 8\n",
    "integral = Gaussian_double_integral(example,8)\n",
    "print(\"The volume of the surface with n = 8 is: \",integral)\n",
    "\n",
    "# n = 10\n",
    "integral = Gaussian_double_integral(example,10)\n",
    "print(\"The volume of the surface with n = 10 is: \",integral)"
   ]
  },
  {
   "cell_type": "markdown",
   "id": "8786634e",
   "metadata": {},
   "source": [
    "## Example 4"
   ]
  },
  {
   "cell_type": "markdown",
   "id": "fc631480",
   "metadata": {},
   "source": [
    "## \"Calota\":\n",
    "$V = 2\\pi\\displaystyle\\int_{3/4}^1\\left(\\int_{0}^{\\sqrt{1-x^2}}y\\,dy\\right)dx = \\dfrac{11\\pi}{192} = 0.17998707911191522$."
   ]
  },
  {
   "cell_type": "code",
   "execution_count": 10,
   "id": "1d87ed34",
   "metadata": {},
   "outputs": [
    {
     "name": "stdout",
     "output_type": "stream",
     "text": [
      "The 'exact' solution is:  0.17998707911191525\n",
      "The volume of the calota with n = 3 is:  0.1799870791119152\n",
      "The volume of the calota with n = 6 is:  0.1799870791119152\n",
      "The volume of the calota with n = 8 is:  0.17998707911191525\n",
      "The volume of the calota with n = 10 is:  0.17998707911191525\n"
     ]
    }
   ],
   "source": [
    "calota = True\n",
    "example = 4\n",
    "\n",
    "F = lambda y, x: y\n",
    "exact = integrate.dblquad(F, 0.75, 1, lambda x: 0, lambda x: np.sqrt(1.0 - x**2))\n",
    "print(\"The 'exact' solution is: \",2.0 * np.pi * exact[0])\n",
    "\n",
    "# n = 3\n",
    "integral = Gaussian_double_integral(example,3)\n",
    "print(\"The volume of the calota with n = 3 is: \",2.0 * np.pi * integral)\n",
    "\n",
    "# n = 6\n",
    "integral = Gaussian_double_integral(example,6)\n",
    "print(\"The volume of the calota with n = 6 is: \",2.0 * np.pi * integral)\n",
    "\n",
    "# n = 8\n",
    "integral = Gaussian_double_integral(example,8)\n",
    "print(\"The volume of the calota with n = 8 is: \",2.0 * np.pi * integral)\n",
    "\n",
    "# n = 10\n",
    "integral = Gaussian_double_integral(example,10)\n",
    "print(\"The volume of the calota with n = 10 is: \",2.0 * np.pi * integral)"
   ]
  },
  {
   "cell_type": "markdown",
   "id": "2981432c",
   "metadata": {},
   "source": [
    "## Solid of revolution:\n",
    "$V = 2\\pi\\displaystyle\\int_{-1}^{1}\\left(\\int_0^{e^{-y^2}}x\\, dx\\right)dy = 3.75822.$"
   ]
  },
  {
   "cell_type": "code",
   "execution_count": 11,
   "id": "97e90791",
   "metadata": {},
   "outputs": [
    {
     "name": "stdout",
     "output_type": "stream",
     "text": [
      "The 'exact' solution is:  3.7582496342318334\n",
      "The volume of the solid with n = 3 is:  3.8438929403544178\n",
      "The volume of the solid with n = 6 is:  3.7581650328967093\n",
      "The volume of the solid with n = 8 is:  3.7582492624394384\n",
      "The volume of the solid with n = 10 is:  3.7582496332093873\n"
     ]
    }
   ],
   "source": [
    "calota = False\n",
    "\n",
    "F = lambda x, y: x\n",
    "exact = integrate.dblquad(F, -1, 1, lambda y: 0, lambda y: np.exp(-1.0 * y**2))\n",
    "print(\"The 'exact' solution is: \",2.0 * np.pi * exact[0])\n",
    "\n",
    "# n = 3\n",
    "integral = Gaussian_double_integral(example,3)\n",
    "print(\"The volume of the solid with n = 3 is: \",2.0 * np.pi * integral)\n",
    "\n",
    "# n = 6\n",
    "integral = Gaussian_double_integral(example,6)\n",
    "print(\"The volume of the solid with n = 6 is: \",2.0 * np.pi * integral)\n",
    "\n",
    "# n = 8\n",
    "integral = Gaussian_double_integral(example,8)\n",
    "print(\"The volume of the solid with n = 8 is: \",2.0 * np.pi * integral)\n",
    "\n",
    "# n = 10\n",
    "integral = Gaussian_double_integral(example,10)\n",
    "print(\"The volume of the solid with n = 10 is: \",2.0 * np.pi * integral)"
   ]
  }
 ],
 "metadata": {
  "kernelspec": {
   "display_name": "Python 3 (ipykernel)",
   "language": "python",
   "name": "python3"
  },
  "language_info": {
   "codemirror_mode": {
    "name": "ipython",
    "version": 3
   },
   "file_extension": ".py",
   "mimetype": "text/x-python",
   "name": "python",
   "nbconvert_exporter": "python",
   "pygments_lexer": "ipython3",
   "version": "3.10.4"
  }
 },
 "nbformat": 4,
 "nbformat_minor": 5
}
