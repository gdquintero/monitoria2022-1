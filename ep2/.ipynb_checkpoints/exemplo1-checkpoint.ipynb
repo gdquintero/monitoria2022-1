{
 "cells": [
  {
   "cell_type": "code",
   "execution_count": 1,
   "id": "47a25476",
   "metadata": {},
   "outputs": [],
   "source": [
    "import numpy as np"
   ]
  },
  {
   "cell_type": "code",
   "execution_count": 26,
   "id": "859c509f",
   "metadata": {},
   "outputs": [],
   "source": [
    "def c(x,example):\n",
    "    if example == 1:\n",
    "        return 0.0\n",
    "\n",
    "def d(x,example):\n",
    "    if example == 1:\n",
    "        if cubo:\n",
    "            return 1.0\n",
    "        else:\n",
    "            return 1.0 - x\n",
    "    \n",
    "def f(x,y,example):\n",
    "    if example == 1:\n",
    "        if cubo:\n",
    "            return 1.0\n",
    "        else:\n",
    "            return 1.0 - x - y\n",
    "\n",
    "def Gaussian_double_integral(example):\n",
    "               \n",
    "    a = 0.0\n",
    "    b = 1.0\n",
    "        \n",
    "    h1 = 0.5 * (a + b)\n",
    "    h2 = 0.5 * (b - a)\n",
    "    \n",
    "    sumx = 0.0\n",
    "\n",
    "    for i in range(n):\n",
    "        s = h1 + h2 * x[i]\n",
    "        \n",
    "        k1 = 0.5 * (c(s,example) + d(s,example))\n",
    "        k2 = 0.5 * (d(s,example) - c(s,example))\n",
    "        \n",
    "        sumy = 0.0\n",
    "\n",
    "        for j in range(n):\n",
    "            t = k1 + x[j]\n",
    "            sumy = sumy + w[j] * f(s,t,example)\n",
    "\n",
    "        sumx = sumx + w[i] * k2 * sumy\n",
    "\n",
    "    return h2 * sumx"
   ]
  },
  {
   "cell_type": "code",
   "execution_count": 27,
   "id": "dd0d8cae",
   "metadata": {},
   "outputs": [],
   "source": [
    "n = 6\n",
    "\n",
    "x = np.empty(n)\n",
    "w = np.empty(n)\n",
    "\n",
    "if n == 6:\n",
    "    x[0] = 0.2386191860831969086305017\n",
    "    x[1] = 0.6612093864662645136613996\n",
    "    x[2] = 0.9324695142031520278123016\n",
    "    \n",
    "    w[0] = 0.4679139345726910473898703\n",
    "    w[1] = 0.3607615730481386075698335\n",
    "    w[2] = 0.1713244923791703450402961\n",
    "    \n",
    "elif n == 8:\n",
    "    x[0] = 0.1834346424956498049394761\n",
    "    x[1] = 0.5255324099163289858177390\n",
    "    x[2] = 0.7966664774136267395915539\n",
    "    x[3] = 0.9602898564975362316835609\n",
    "    \n",
    "    w[0] = 0.3626837833783619829651504\n",
    "    w[1] = 0.3137066458778872873379622\n",
    "    w[2] = 0.2223810344533744705443560\n",
    "    w[3] = 0.1012285362903762591525314\n",
    "    \n",
    "else:\n",
    "    x[0] = 0.1488743389816312108848260\n",
    "    x[1] = 0.4333953941292471907992659\n",
    "    x[2] = 0.6794095682990244062343274\n",
    "    x[3] = 0.8650633666889845107320967\n",
    "    x[4] = 0.9739065285171717200779640\n",
    "    \n",
    "    w[0] = 0.2955242247147528701738930\n",
    "    w[1] = 0.2692667193099963550912269\n",
    "    w[2] = 0.2190863625159820439955349\n",
    "    w[3] = 0.1494513491505805931457763\n",
    "    w[4] = 0.0666713443086881375935688\n",
    "    \n",
    "x[int(n/2):] = np.flip(x)[int(n/2):]\n",
    "w[int(n/2):] = np.flip(w)[int(n/2):]\n",
    "    "
   ]
  },
  {
   "cell_type": "markdown",
   "id": "55750af9",
   "metadata": {},
   "source": [
    "## Exemple 1"
   ]
  },
  {
   "cell_type": "markdown",
   "id": "f2d080bc",
   "metadata": {},
   "source": [
    "### Cube"
   ]
  },
  {
   "cell_type": "code",
   "execution_count": 28,
   "id": "88c2b425",
   "metadata": {},
   "outputs": [
    {
     "name": "stdout",
     "output_type": "stream",
     "text": [
      "The volume of the cube is:  1.0\n"
     ]
    }
   ],
   "source": [
    "cubo = True\n",
    "example = 1\n",
    "\n",
    "integral = Gaussian_double_integral(example)\n",
    "\n",
    "print(\"The volume of the cube is: \",integral)"
   ]
  },
  {
   "cell_type": "markdown",
   "id": "6b364111",
   "metadata": {},
   "source": [
    "### Tetrahedron"
   ]
  },
  {
   "cell_type": "code",
   "execution_count": 29,
   "id": "ebe57508",
   "metadata": {},
   "outputs": [
    {
     "name": "stdout",
     "output_type": "stream",
     "text": [
      "The volume of the cube is:  -0.08577062315860583\n"
     ]
    }
   ],
   "source": [
    "cubo = False\n",
    "\n",
    "integral = Gaussian_double_integral(example)\n",
    "\n",
    "print(\"The volume of the tetrahedron is: \",integral)"
   ]
  },
  {
   "cell_type": "code",
   "execution_count": null,
   "id": "804d101a",
   "metadata": {},
   "outputs": [],
   "source": []
  }
 ],
 "metadata": {
  "kernelspec": {
   "display_name": "Python 3 (ipykernel)",
   "language": "python",
   "name": "python3"
  },
  "language_info": {
   "codemirror_mode": {
    "name": "ipython",
    "version": 3
   },
   "file_extension": ".py",
   "mimetype": "text/x-python",
   "name": "python",
   "nbconvert_exporter": "python",
   "pygments_lexer": "ipython3",
   "version": "3.10.4"
  }
 },
 "nbformat": 4,
 "nbformat_minor": 5
}
