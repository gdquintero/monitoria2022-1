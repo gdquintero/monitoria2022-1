{
 "cells": [
  {
   "cell_type": "code",
   "execution_count": 1,
   "metadata": {},
   "outputs": [],
   "source": [
    "import numpy as np #Otherwise ..."
   ]
  },
  {
   "cell_type": "markdown",
   "metadata": {},
   "source": [
    "Funções para o caso tridiagonal"
   ]
  },
  {
   "cell_type": "code",
   "execution_count": 2,
   "metadata": {},
   "outputs": [],
   "source": [
    "def ludcmp_tri(a, b, c):\n",
    "  # Given a tridiagonal matrix stored in vectors a, b, and c, compute its LU\n",
    "  # decomposition and stores in the same vectors. All vectors have the same\n",
    "  # size. The lower diagonal is stored in a, with zero in the first component,\n",
    "  # the main diagonal is stored in b, and the upper diagonal is stored in c,\n",
    "  # with zero in the last element:\n",
    "  #\n",
    "  # a = [0, a_1, ..., a_{n-1}]\n",
    "  #\n",
    "  # b = [b_0, ..., b_{n-1}]\n",
    "  #\n",
    "  # c = [c_0, ..., c_{n-2}, 0]\n",
    "  #\n",
    "  # The multipliers l are returned on and the diagonal of U is returned on b.\n",
    "  # This routine operates on \"methods\" for numpy arrays, so it behaves like\n",
    "  # passage  as reference for the parameters.\n",
    "  \n",
    "  \n",
    "  n = len(a)\n",
    "  for i in range(1, n):\n",
    "    a[i] /= b[i-1]  # multiplicador\n",
    "    b[i] -= a[i]*c[i-1] # diagonal de U\n",
    "    \n",
    "def ludcmp_tri_solve(l, u, c, d):\n",
    "  # Given u and l from the LU decomposition of a tridiagonal matrix A, and\n",
    "  # the rhs d, solves Ax = d. The result is returned in d.\n",
    "  \n",
    "  \n",
    "  n = len(l)\n",
    "  \n",
    "  # Ly = d; result in d\n",
    "  for i in range(1, n):\n",
    "    d[i] -= l[i]*d[i-1]\n",
    "  \n",
    "  # Ux = d; result in d\n",
    "  d[n-1] /= u[n-1]\n",
    "  for i in range(n-2, -1, -1):\n",
    "    d[i] -= c[i]*d[i+1]; d[i] /= u[i]"
   ]
  },
  {
   "cell_type": "markdown",
   "metadata": {},
   "source": [
    "Sistemas tridiagonais cíclicos"
   ]
  },
  {
   "cell_type": "code",
   "execution_count": 31,
   "metadata": {},
   "outputs": [],
   "source": [
    "def cyclic_tridiagonal(a, b, c, d):\n",
    "    #Given a cyclic tridiagonal matrix A characterized by the vectors a, b,\n",
    "    #and c, solves Ax = d using the functions in module tridiagonal.py\n",
    "\n",
    "    #Tridiagonal submatrix T\n",
    "    l = np.copy(a[:-1]); l[0] = 0.0\n",
    "    u = np.copy(b[:-1])\n",
    "    cc = np.copy(c[:-1]); cc[-1] = 0.0\n",
    "\n",
    "    ludcmp_tri(l, u, cc) #LU decomposition of the tridiagonal submatrix T\n",
    "\n",
    "    #Solution of the first tridiagonal subsystem\n",
    "    y = np.copy(d[:-1])\n",
    "    ludcmp_tri_solve(l, u, cc, y)\n",
    "\n",
    "    #Solution of the second tridiagonal subsystem\n",
    "    z = np.zeros(len(a)-1); z[0] = a[0]; z[-1] = c[-2]\n",
    "    ludcmp_tri_solve(l, u, cc, z)\n",
    "\n",
    "    #Solution of the cyclic system\n",
    "    x = np.empty(len(a)) #Allocate memory\n",
    "    x[-1] = (d[-1]-c[-1]*y[0]-a[-1]*y[-1])/(b[-1]-c[-1]*z[0]-a[-1]*z[-1])\n",
    "    x[:-1] = y - x[-1]*z\n",
    "\n",
    "    print(\"L: \")\n",
    "    print(l)\n",
    "    print(\"\\n U: \")\n",
    "    print(u)\n",
    "\n",
    "    return x"
   ]
  },
  {
   "cell_type": "markdown",
   "metadata": {},
   "source": [
    "Exemplo da Tarefa 1"
   ]
  },
  {
   "cell_type": "code",
   "execution_count": 42,
   "metadata": {},
   "outputs": [
    {
     "name": "stdout",
     "output_type": "stream",
     "text": [
      "\n",
      "       a          b           c           d\n",
      "\n",
      " 0.25000000  2.00000000  0.75000000  0.99987663\n",
      " 0.37500000  2.00000000  0.62500000  0.99802673\n",
      " 0.41666667  2.00000000  0.58333333  0.99002366\n",
      " 0.43750000  2.00000000  0.56250000  0.96858316\n",
      " 0.45000000  2.00000000  0.55000000  0.92387953\n",
      " 0.45833333  2.00000000  0.54166667  0.84432793\n",
      " 0.46428571  2.00000000  0.53571429  0.71812630\n",
      " 0.46875000  2.00000000  0.53125000  0.53582679\n",
      " 0.47222222  2.00000000  0.52777778  0.29404033\n",
      " 0.47500000  2.00000000  0.52500000  0.00000000\n",
      " 0.47727273  2.00000000  0.52272727 -0.32391742\n",
      " 0.47916667  2.00000000  0.52083333 -0.63742399\n",
      " 0.48076923  2.00000000  0.51923077 -0.88376563\n",
      " 0.48214286  2.00000000  0.51785714 -0.99802673\n",
      " 0.48333333  2.00000000  0.51666667 -0.92387953\n",
      " 0.48437500  2.00000000  0.51562500 -0.63742399\n",
      " 0.48529412  2.00000000  0.51470588 -0.17192910\n",
      " 0.48611111  2.00000000  0.51388889  0.36812455\n",
      " 0.48684211  2.00000000  0.51315789  0.81814972\n",
      " 0.97500000  2.00000000  0.02500000  1.00000000\n",
      "\n",
      "\n"
     ]
    }
   ],
   "source": [
    "n = 5\n",
    "iv = np.arange(n) + 1.0 #Vetor formado pelos índices 1,...,n\n",
    "a = np.empty(n); a[:-1] = (2*iv[:-1] - 1) / (4*iv[:-1]); a[-1] = (2*iv[-1] - 1) / (2*iv[-1]) #Vetor a\n",
    "c = 1 - a #Vetor c\n",
    "b = 2*np.ones(n) #Vetor b\n",
    "d = np.cos(2*np.pi*iv*iv/(n*n)) #Lado direito so sistema tridiagonal cíclico\n",
    "\n",
    "print(\"\\n%8s %10s %11s %11s\\n\" % ('a', 'b', 'c', 'd')) #Veja os dados\n",
    "for i in range(n):\n",
    "    print(\"%11.8f %11.8f %11.8f %11.8f\" % (a[i], b[i], c[i], d[i]))\n",
    "print(\"\\n\")"
   ]
  },
  {
   "cell_type": "code",
   "execution_count": 43,
   "metadata": {},
   "outputs": [
    {
     "name": "stdout",
     "output_type": "stream",
     "text": [
      "L: \n",
      "[0.         0.1875     0.22408964 0.23522214 0.2415735  0.24587182\n",
      " 0.2489774  0.25132199 0.25315296 0.25462172 0.25582577 0.2568306\n",
      " 0.25768181 0.25841208 0.25904544 0.25959998 0.26008953 0.26052488\n",
      " 0.26091455]\n",
      "\n",
      " U: \n",
      "[2.         1.859375   1.85994398 1.86278709 1.86411491 1.8647705\n",
      " 1.86513724 1.86536322 1.86551249 1.86561631 1.86569147 1.86574764\n",
      " 1.86579072 1.8658245  1.86585147 1.86587334 1.86589134 1.86590631\n",
      " 1.86591891]\n",
      "\n",
      "         x\n",
      "\n",
      " 0.3303151204455732\n",
      " 0.3336978395498074\n",
      " 0.3308206066585067\n",
      " 0.3245857335779274\n",
      " 0.3105380952172078\n",
      " 0.2849813853941887\n",
      " 0.2437572819798475\n",
      " 0.1834913690915583\n",
      " 0.1027441522217908\n",
      " 0.0036062880967114\n",
      "-0.1066972352357588\n",
      "-0.2147279021740320\n",
      "-0.3011374595523034\n",
      "-0.3433081265489520\n",
      "-0.3209750072616683\n",
      "-0.2245108196566904\n",
      "-0.0638644000832738\n",
      " 0.1258067611713189\n",
      " 0.2871364375011199\n",
      " 0.3558920477126344\n",
      "\n",
      "\n"
     ]
    }
   ],
   "source": [
    "\n",
    "x = cyclic_tridiagonal(a, b, c, d) #Solução\n",
    "\n",
    "print(\"\\n%10s\\n\" %('x',)) #Impressão do resultado\n",
    "for i in range(n):\n",
    "    print(\"%19.16f\" % x[i])\n",
    "print(\"\\n\")"
   ]
  },
  {
   "cell_type": "markdown",
   "metadata": {},
   "source": [
    "Verificação com o numpy, sem explorar a estrutura da matriz"
   ]
  },
  {
   "cell_type": "code",
   "execution_count": 6,
   "metadata": {},
   "outputs": [
    {
     "name": "stdout",
     "output_type": "stream",
     "text": [
      "\n",
      "Erro = 1.9e-16\n",
      "\n"
     ]
    }
   ],
   "source": [
    "A = np.diag(a[1:],k=-1) + np.diag(b) + np.diag(c[:-1],k=1); A[0,-1] = a[0]; A[-1,0] = c[-1] #Matriz cíclica\n",
    "xx = np.linalg.solve(A, d) #Solução de Ax = d usando numpy\n",
    "erro = abs((xx-x)/xx) #Erro relativo componente a componente\n",
    "print(\"\\nErro = %.1e\\n\" % max(erro))"
   ]
  },
  {
   "cell_type": "code",
   "execution_count": null,
   "metadata": {},
   "outputs": [],
   "source": []
  }
 ],
 "metadata": {
  "kernelspec": {
   "display_name": "Python 3 (ipykernel)",
   "language": "python",
   "name": "python3"
  },
  "language_info": {
   "codemirror_mode": {
    "name": "ipython",
    "version": 3
   },
   "file_extension": ".py",
   "mimetype": "text/x-python",
   "name": "python",
   "nbconvert_exporter": "python",
   "pygments_lexer": "ipython3",
   "version": "3.10.4"
  }
 },
 "nbformat": 4,
 "nbformat_minor": 2
}
