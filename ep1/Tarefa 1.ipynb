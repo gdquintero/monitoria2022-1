{
 "cells": [
  {
   "cell_type": "code",
   "execution_count": 1,
   "metadata": {},
   "outputs": [],
   "source": [
    "import numpy as np #Otherwise ..."
   ]
  },
  {
   "cell_type": "markdown",
   "metadata": {},
   "source": [
    "Funções para o caso tridiagonal"
   ]
  },
  {
   "cell_type": "code",
   "execution_count": 2,
   "metadata": {},
   "outputs": [],
   "source": [
    "def ludcmp_tri(a, b, c):\n",
    "  # Given a tridiagonal matrix stored in vectors a, b, and c, compute its LU\n",
    "  # decomposition and stores in the same vectors. All vectors have the same\n",
    "  # size. The lower diagonal is stored in a, with zero in the first component,\n",
    "  # the main diagonal is stored in b, and the upper diagonal is stored in c,\n",
    "  # with zero in the last element:\n",
    "  #\n",
    "  # a = [0, a_1, ..., a_{n-1}]\n",
    "  #\n",
    "  # b = [b_0, ..., b_{n-1}]\n",
    "  #\n",
    "  # c = [c_0, ..., c_{n-2}, 0]\n",
    "  #\n",
    "  # The multipliers l are returned on and the diagonal of U is returned on b.\n",
    "  # This routine operates on \"methods\" for numpy arrays, so it behaves like\n",
    "  # passage  as reference for the parameters.\n",
    "  \n",
    "  \n",
    "  n = len(a)\n",
    "  for i in range(1, n):\n",
    "    a[i] /= b[i-1]  # multiplicador\n",
    "    b[i] -= a[i]*c[i-1] # diagonal de U\n",
    "    \n",
    "def ludcmp_tri_solve(l, u, c, d):\n",
    "  # Given u and l from the LU decomposition of a tridiagonal matrix A, and\n",
    "  # the rhs d, solves Ax = d. The result is returned in d.\n",
    "  \n",
    "  \n",
    "  n = len(l)\n",
    "  \n",
    "  # Ly = d; result in d\n",
    "  for i in range(1, n):\n",
    "    d[i] -= l[i]*d[i-1]\n",
    "  \n",
    "  # Ux = d; result in d\n",
    "  d[n-1] /= u[n-1]\n",
    "  for i in range(n-2, -1, -1):\n",
    "    d[i] -= c[i]*d[i+1]; d[i] /= u[i]"
   ]
  },
  {
   "cell_type": "markdown",
   "metadata": {},
   "source": [
    "Sistemas tridiagonais cíclicos"
   ]
  },
  {
   "cell_type": "code",
   "execution_count": 3,
   "metadata": {},
   "outputs": [],
   "source": [
    "def cyclic_tridiagonal(a, b, c, d):\n",
    "    #Given a cyclic tridiagonal matrix A characterized by the vectors a, b,\n",
    "    #and c, solves Ax = d using the functions in module tridiagonal.py\n",
    "\n",
    "    #Tridiagonal submatrix T\n",
    "    l = np.copy(a[:-1]); l[0] = 0.0\n",
    "    u = np.copy(b[:-1])\n",
    "    cc = np.copy(c[:-1]); cc[-1] = 0.0\n",
    "\n",
    "    ludcmp_tri(l, u, cc) #LU decomposition of the tridiagonal submatrix T\n",
    "\n",
    "    #Solution of the first tridiagonal subsystem\n",
    "    y = np.copy(d[:-1])\n",
    "    ludcmp_tri_solve(l, u, cc, y)\n",
    "\n",
    "    #Solution of the second tridiagonal subsystem\n",
    "    z = np.zeros(len(a)-1); z[0] = a[0]; z[-1] = c[-2]\n",
    "    ludcmp_tri_solve(l, u, cc, z)\n",
    "\n",
    "    #Solution of the cyclic system\n",
    "    x = np.empty(len(a)) #Allocate memory\n",
    "    x[-1] = (d[-1]-c[-1]*y[0]-a[-1]*y[-1])/(b[-1]-c[-1]*z[0]-a[-1]*z[-1])\n",
    "    x[:-1] = y - x[-1]*z\n",
    "\n",
    "    print(\"L: \")\n",
    "    print(l)\n",
    "    print(\"\\n U: \")\n",
    "    print(u)\n",
    "\n",
    "    return x"
   ]
  },
  {
   "cell_type": "markdown",
   "metadata": {},
   "source": [
    "Exemplo da Tarefa 1"
   ]
  },
  {
   "cell_type": "code",
   "execution_count": 9,
   "metadata": {},
   "outputs": [
    {
     "name": "stdout",
     "output_type": "stream",
     "text": [
      "\n",
      "       a          b           c           d\n",
      "\n",
      " 0.25000000  2.00000000  0.75000000  0.96858316\n",
      " 0.37500000  2.00000000  0.62500000  0.53582679\n",
      " 0.41666667  2.00000000  0.58333333 -0.63742399\n",
      " 0.43750000  2.00000000  0.56250000 -0.63742399\n",
      " 0.90000000  2.00000000  0.10000000  1.00000000\n",
      "\n",
      "\n"
     ]
    }
   ],
   "source": [
    "n = 5\n",
    "iv = np.arange(n) + 1.0 #Vetor formado pelos índices 1,...,n\n",
    "a = np.empty(n); a[:-1] = (2*iv[:-1] - 1) / (4*iv[:-1]); a[-1] = (2*iv[-1] - 1) / (2*iv[-1]) #Vetor a\n",
    "c = 1 - a #Vetor c\n",
    "b = 2*np.ones(n) #Vetor b\n",
    "d = np.cos(2*np.pi*iv*iv/(n*n)) #Lado direito so sistema tridiagonal cíclico\n",
    "\n",
    "print(\"\\n%8s %10s %11s %11s\\n\" % ('a', 'b', 'c', 'd')) #Veja os dados\n",
    "for i in range(n):\n",
    "    print(\"%11.8f %11.8f %11.8f %11.8f\" % (a[i], b[i], c[i], d[i]))\n",
    "print(\"\\n\")"
   ]
  },
  {
   "cell_type": "code",
   "execution_count": 10,
   "metadata": {},
   "outputs": [
    {
     "name": "stdout",
     "output_type": "stream",
     "text": [
      "L: \n",
      "[0.         0.1875     0.22408964 0.23522214]\n",
      "\n",
      " U: \n",
      "[2.         1.859375   1.85994398 1.86278709]\n",
      "\n",
      "         x\n",
      "\n",
      " 0.2888525037465419\n",
      " 0.2903382545973282\n",
      "-0.2450710449929809\n",
      "-0.4598677243056251\n",
      " 0.6924978507502042\n",
      "\n",
      "\n"
     ]
    }
   ],
   "source": [
    "\n",
    "x = cyclic_tridiagonal(a, b, c, d) #Solução\n",
    "\n",
    "print(\"\\n%10s\\n\" %('x',)) #Impressão do resultado\n",
    "for i in range(n):\n",
    "    print(\"%19.16f\" % x[i])\n",
    "print(\"\\n\")"
   ]
  },
  {
   "cell_type": "markdown",
   "metadata": {},
   "source": [
    "Verificação com o numpy, sem explorar a estrutura da matriz"
   ]
  },
  {
   "cell_type": "code",
   "execution_count": 6,
   "metadata": {},
   "outputs": [
    {
     "name": "stdout",
     "output_type": "stream",
     "text": [
      "\n",
      "Erro = 1.9e-16\n",
      "\n"
     ]
    }
   ],
   "source": [
    "A = np.diag(a[1:],k=-1) + np.diag(b) + np.diag(c[:-1],k=1); A[0,-1] = a[0]; A[-1,0] = c[-1] #Matriz cíclica\n",
    "xx = np.linalg.solve(A, d) #Solução de Ax = d usando numpy\n",
    "erro = abs((xx-x)/xx) #Erro relativo componente a componente\n",
    "print(\"\\nErro = %.1e\\n\" % max(erro))"
   ]
  },
  {
   "cell_type": "code",
   "execution_count": null,
   "metadata": {},
   "outputs": [],
   "source": []
  }
 ],
 "metadata": {
  "kernelspec": {
   "display_name": "Python 3 (ipykernel)",
   "language": "python",
   "name": "python3"
  },
  "language_info": {
   "codemirror_mode": {
    "name": "ipython",
    "version": 3
   },
   "file_extension": ".py",
   "mimetype": "text/x-python",
   "name": "python",
   "nbconvert_exporter": "python",
   "pygments_lexer": "ipython3",
   "version": "3.10.4"
  }
 },
 "nbformat": 4,
 "nbformat_minor": 2
}
